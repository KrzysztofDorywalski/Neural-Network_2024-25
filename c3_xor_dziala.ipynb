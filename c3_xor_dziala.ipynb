{
 "cells": [
  {
   "cell_type": "code",
   "execution_count": 28,
   "id": "dd8af4de",
   "metadata": {},
   "outputs": [],
   "source": [
    "import torch\n",
    "import torch.nn as nn\n",
    "class fcnn(nn.Module):\n",
    "    def __init__(self,n_input=2,n_hidden=2,n_output=1):\n",
    "        super(fcnn,self).__init__()\n",
    "        activation=nn.Sigmoid\n",
    "        \n",
    "        self.input_layer=nn.Sequential(*[nn.Linear(n_input,n_hidden),activation()])\n",
    "        self.output_layer=nn.Linear(n_hidden,n_output)\n",
    "    def forward(self,x):\n",
    "        x=self.input_layer(x)\n",
    "        x=self.output_layer(x)\n",
    "        return x\n",
    "        "
   ]
  },
  {
   "cell_type": "markdown",
   "id": "1f2984cb",
   "metadata": {},
   "source": []
  },
  {
   "cell_type": "code",
   "execution_count": 29,
   "id": "39dbfce9",
   "metadata": {},
   "outputs": [],
   "source": [
    "x=torch.tensor([[0,0],[0,1],[1,0],[1,1]],requires_grad=False,dtype=torch.float32)\n",
    "y=torch.tensor([0,1,1,0],requires_grad=False,dtype=torch.float32).view(-1,1)\n",
    "model=fcnn()\n",
    "loss_function=nn.MSELoss()\n",
    "optimizer=torch.optim.SGD(model.parameters(),lr=0.1)"
   ]
  },
  {
   "cell_type": "code",
   "execution_count": 30,
   "id": "a74a709c",
   "metadata": {},
   "outputs": [],
   "source": [
    "n_iter=6000\n",
    "for epoch in range(n_iter):\n",
    "    optimizer.zero_grad()\n",
    "    y_predictive=model(x)\n",
    "    loss=loss_function(y_predictive,y)\n",
    "    loss.backward()\n",
    "    optimizer.step()"
   ]
  },
  {
   "cell_type": "code",
   "execution_count": 31,
   "id": "ae119911",
   "metadata": {},
   "outputs": [
    {
     "name": "stdout",
     "output_type": "stream",
     "text": [
      "tensor([[8.3447e-06],\n",
      "        [9.9999e-01],\n",
      "        [9.9999e-01],\n",
      "        [3.3379e-06]], grad_fn=<AddmmBackward0>)\n"
     ]
    }
   ],
   "source": [
    "print(y_predictive)"
   ]
  },
  {
   "cell_type": "code",
   "execution_count": 32,
   "id": "d79baec8",
   "metadata": {},
   "outputs": [
    {
     "name": "stdout",
     "output_type": "stream",
     "text": [
      "tensor(3.8662e-11, grad_fn=<MseLossBackward0>)\n"
     ]
    }
   ],
   "source": [
    "print(loss)"
   ]
  },
  {
   "cell_type": "code",
   "execution_count": 13,
   "id": "a8a0e37f",
   "metadata": {},
   "outputs": [],
   "source": [
    "y=torch.tensor([0,1,1,0],requires_grad=False,dtype=torch.float32).view(-1,1)"
   ]
  },
  {
   "cell_type": "code",
   "execution_count": 14,
   "id": "e7d7fb0e",
   "metadata": {},
   "outputs": [
    {
     "name": "stdout",
     "output_type": "stream",
     "text": [
      "tensor([[0.],\n",
      "        [1.],\n",
      "        [1.],\n",
      "        [0.]])\n"
     ]
    }
   ],
   "source": [
    "print(y)"
   ]
  },
  {
   "cell_type": "code",
   "execution_count": 15,
   "id": "f5fb13dd",
   "metadata": {},
   "outputs": [
    {
     "data": {
      "text/plain": [
       "torch.Size([4, 1])"
      ]
     },
     "execution_count": 15,
     "metadata": {},
     "output_type": "execute_result"
    }
   ],
   "source": [
    "y.shape"
   ]
  },
  {
   "cell_type": "code",
   "execution_count": 17,
   "id": "9d5b9962",
   "metadata": {},
   "outputs": [
    {
     "data": {
      "text/plain": [
       "tensor([[0., 0.],\n",
       "        [0., 1.],\n",
       "        [1., 0.],\n",
       "        [1., 1.]])"
      ]
     },
     "execution_count": 17,
     "metadata": {},
     "output_type": "execute_result"
    }
   ],
   "source": [
    "x"
   ]
  },
  {
   "cell_type": "code",
   "execution_count": 2,
   "id": "763d57e2",
   "metadata": {},
   "outputs": [],
   "source": [
    "nn.Module?"
   ]
  },
  {
   "cell_type": "code",
   "execution_count": null,
   "id": "4a6dbb6b",
   "metadata": {},
   "outputs": [],
   "source": []
  }
 ],
 "metadata": {
  "kernelspec": {
   "display_name": "Python 3 (ipykernel)",
   "language": "python",
   "name": "python3"
  },
  "language_info": {
   "codemirror_mode": {
    "name": "ipython",
    "version": 3
   },
   "file_extension": ".py",
   "mimetype": "text/x-python",
   "name": "python",
   "nbconvert_exporter": "python",
   "pygments_lexer": "ipython3",
   "version": "3.10.12"
  }
 },
 "nbformat": 4,
 "nbformat_minor": 5
}
