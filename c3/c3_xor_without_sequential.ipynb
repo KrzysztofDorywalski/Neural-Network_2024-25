{
 "cells": [
  {
   "cell_type": "code",
   "execution_count": 5,
   "id": "18f75c10",
   "metadata": {},
   "outputs": [],
   "source": [
    "import torch\n",
    "import matplotlib.pyplot as plt"
   ]
  },
  {
   "cell_type": "code",
   "execution_count": 6,
   "id": "0620d18b",
   "metadata": {},
   "outputs": [],
   "source": [
    "import torch\n",
    "import torch.nn as nn\n",
    "class fcnn(nn.Module):\n",
    "    def __init__(self,n_input=2,n_hidden=4,n_output=1):\n",
    "        super(fcnn,self).__init__()\n",
    "        #activation=nn.Sigmoid\n",
    "        #self.input_layer=nn.Sequential(*[nn.Linear(n_input,n_hidden),activation()])\n",
    "        self.input_layer=nn.Linear(n_input,n_hidden)\n",
    "        self.output_layer=nn.Linear(n_hidden,n_output)\n",
    "    def forward(self,x):\n",
    "        x=self.input_layer(x)\n",
    "       # x=nn.functional.sigmoid(x)\n",
    "        x=1./(1+torch.exp(-x))\n",
    "        x=self.output_layer(x)\n",
    "        return x"
   ]
  },
  {
   "cell_type": "code",
   "execution_count": 10,
   "id": "45265cc6",
   "metadata": {},
   "outputs": [],
   "source": [
    "x=torch.tensor([[0,0],[0,1],[1,0],[1,1]],requires_grad=False,dtype=torch.float32)\n",
    "y=torch.tensor([0,1,1,0],requires_grad=False,dtype=torch.float32).view(-1,1)\n",
    "model=fcnn()\n",
    "loss_function=nn.MSELoss()\n",
    "optimizer=torch.optim.SGD(model.parameters(),lr=0.1)\n",
    "loss_list=[]"
   ]
  },
  {
   "cell_type": "code",
   "execution_count": 11,
   "id": "7550c77d",
   "metadata": {},
   "outputs": [],
   "source": [
    "n_iter=6000\n",
    "for epoch in range(n_iter):\n",
    "    optimizer.zero_grad()\n",
    "    y_predictive=model(x)\n",
    "    loss=loss_function(y_predictive,y)\n",
    "    loss_list.append(loss.detach().numpy())\n",
    "    loss.backward()\n",
    "    optimizer.step()"
   ]
  },
  {
   "cell_type": "code",
   "execution_count": 12,
   "id": "f5b9604b",
   "metadata": {},
   "outputs": [
    {
     "data": {
      "text/plain": [
       "[<matplotlib.lines.Line2D at 0x7fe857e93d30>]"
      ]
     },
     "execution_count": 12,
     "metadata": {},
     "output_type": "execute_result"
    },
    {
     "data": {
      "image/png": "[encoded data removed]",
      "text/plain": [
       "<Figure size 432x288 with 1 Axes>"
      ]
     },
     "metadata": {
      "needs_background": "light"
     },
     "output_type": "display_data"
    }
   ],
   "source": [
    "plt.plot(loss_list)"
   ]
  },
  {
   "cell_type": "code",
   "execution_count": null,
   "id": "de49e178",
   "metadata": {},
   "outputs": [],
   "source": [
    "y_predictive"
   ]
  },
  {
   "cell_type": "code",
   "execution_count": null,
   "id": "7f0bf3e0",
   "metadata": {},
   "outputs": [],
   "source": []
  }
 ],
 "metadata": {
  "kernelspec": {
   "display_name": "Python 3 (ipykernel)",
   "language": "python",
   "name": "python3"
  },
  "language_info": {
   "codemirror_mode": {
    "name": "ipython",
    "version": 3
   },
   "file_extension": ".py",
   "mimetype": "text/x-python",
   "name": "python",
   "nbconvert_exporter": "python",
   "pygments_lexer": "ipython3",
   "version": "3.10.12"
  }
 },
 "nbformat": 4,
 "nbformat_minor": 5
}
