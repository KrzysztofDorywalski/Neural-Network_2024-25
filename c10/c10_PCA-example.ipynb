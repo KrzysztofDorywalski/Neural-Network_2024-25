{
 "cells": [
  {
   "cell_type": "markdown",
   "id": "556d81df-8c88-4a8c-955d-0b634f09cbef",
   "metadata": {},
   "source": [
    "## Principle component analysis - przykład"
   ]
  },
  {
   "cell_type": "markdown",
   "id": "f18d242c-70da-4a28-8eb4-2315ba28fc44",
   "metadata": {},
   "source": [
    "**Principal Component Analysis (PCA)** to metoda analizy statystycznej używana głównie do redukcji wymiarów danych i odkrywania najważniejszych cech w dużych zbiorach danych. Pozwala uprościć dane, zachowując jednocześnie jak najwięcej informacji. Poniżej znajdziesz szczegółowe wyjaśnienie.\n",
    "\n",
    "Cechy PCA:\n",
    "- Redukcja wymiarowości: Usunięcie mniej istotnych informacji, aby dane były łatwiejsze do analizy i wizualizacji.\n",
    "- Eliminacja redundancji: Zmniejszenie korelacji między cechami.\n",
    "- Zachowanie informacji: Zminimalizowanie utraty istotnych danych."
   ]
  },
  {
   "cell_type": "markdown",
   "id": "9b838600-d06e-4cd4-8a57-c2e92a2c063e",
   "metadata": {},
   "source": [
    "### **Przykład:** analiza danych o klientach sklepu internetowego. Załóżmy, że mamy dane o klientach, które zawierają takie cechy, jak:\n",
    "1. Wiek\n",
    "2. Średnia wartość zakupu\n",
    "3. Liczba transakcji w ciągu roku\n",
    "4. Liczba odwiedzin na stronie\n",
    "5. Ocena zadowolenia klienta (od 1 do 10)\n",
    "6. Celem jest uproszczenie tych danych i wizualizacja ich na wykresie 2D, aby lepiej zrozumieć grupy klientów."
   ]
  },
  {
   "cell_type": "markdown",
   "id": "6ea5c326-a046-4a3a-bee6-be4410f2b5eb",
   "metadata": {},
   "source": [
    "1. Przygotowanie danych: "
   ]
  },
  {
   "cell_type": "code",
   "execution_count": 25,
   "id": "ab14252f-37fe-4a56-8dec-37993509c06d",
   "metadata": {},
   "outputs": [],
   "source": [
    "import pandas as pd\n",
    "import numpy as np\n",
    "import matplotlib.pyplot as plt\n",
    "import seaborn as sns\n",
    "from sklearn.decomposition import PCA\n",
    "from sklearn.preprocessing import StandardScaler"
   ]
  },
  {
   "cell_type": "code",
   "execution_count": 27,
   "id": "cec9452f-a114-4bc1-b0b7-dd32bb290198",
   "metadata": {},
   "outputs": [
    {
     "data": {
      "text/html": [
       "<div>\n",
       "<style scoped>\n",
       "    .dataframe tbody tr th:only-of-type {\n",
       "        vertical-align: middle;\n",
       "    }\n",
       "\n",
       "    .dataframe tbody tr th {\n",
       "        vertical-align: top;\n",
       "    }\n",
       "\n",
       "    .dataframe thead th {\n",
       "        text-align: right;\n",
       "    }\n",
       "</style>\n",
       "<table border=\"1\" class=\"dataframe\">\n",
       "  <thead>\n",
       "    <tr style=\"text-align: right;\">\n",
       "      <th></th>\n",
       "      <th>Wiek</th>\n",
       "      <th>Średnia wartość zakupu</th>\n",
       "      <th>Liczba transakcji</th>\n",
       "      <th>Liczba odwiedzin</th>\n",
       "      <th>Ocena zadowolenia</th>\n",
       "    </tr>\n",
       "  </thead>\n",
       "  <tbody>\n",
       "    <tr>\n",
       "      <th>0</th>\n",
       "      <td>25</td>\n",
       "      <td>100</td>\n",
       "      <td>5</td>\n",
       "      <td>20</td>\n",
       "      <td>8</td>\n",
       "    </tr>\n",
       "    <tr>\n",
       "      <th>1</th>\n",
       "      <td>34</td>\n",
       "      <td>200</td>\n",
       "      <td>7</td>\n",
       "      <td>30</td>\n",
       "      <td>9</td>\n",
       "    </tr>\n",
       "    <tr>\n",
       "      <th>2</th>\n",
       "      <td>23</td>\n",
       "      <td>150</td>\n",
       "      <td>6</td>\n",
       "      <td>25</td>\n",
       "      <td>7</td>\n",
       "    </tr>\n",
       "    <tr>\n",
       "      <th>3</th>\n",
       "      <td>45</td>\n",
       "      <td>300</td>\n",
       "      <td>8</td>\n",
       "      <td>35</td>\n",
       "      <td>8</td>\n",
       "    </tr>\n",
       "    <tr>\n",
       "      <th>4</th>\n",
       "      <td>50</td>\n",
       "      <td>250</td>\n",
       "      <td>5</td>\n",
       "      <td>30</td>\n",
       "      <td>6</td>\n",
       "    </tr>\n",
       "  </tbody>\n",
       "</table>\n",
       "</div>"
      ],
      "text/plain": [
       "   Wiek  Średnia wartość zakupu  Liczba transakcji  Liczba odwiedzin  \\\n",
       "0    25                     100                  5                20   \n",
       "1    34                     200                  7                30   \n",
       "2    23                     150                  6                25   \n",
       "3    45                     300                  8                35   \n",
       "4    50                     250                  5                30   \n",
       "\n",
       "   Ocena zadowolenia  \n",
       "0                  8  \n",
       "1                  9  \n",
       "2                  7  \n",
       "3                  8  \n",
       "4                  6  "
      ]
     },
     "execution_count": 27,
     "metadata": {},
     "output_type": "execute_result"
    }
   ],
   "source": [
    "#przykładowe dane\n",
    "data = {\n",
    "    'Wiek': [25, 34, 23, 45, 50, 38, 29, 60, 35, 42],\n",
    "    'Średnia wartość zakupu': [100, 200, 150, 300, 250, 120, 180, 400, 220, 130],\n",
    "    'Liczba transakcji': [5, 7, 6, 8, 5, 6, 7, 8, 6, 5],\n",
    "    'Liczba odwiedzin': [20, 30, 25, 35, 30, 28, 33, 40, 35, 25],\n",
    "    'Ocena zadowolenia': [8, 9, 7, 8, 6, 7, 9, 10, 8, 7]\n",
    "}\n",
    "\n",
    "df = pd.DataFrame(data)\n",
    "df.head()"
   ]
  },
  {
   "cell_type": "markdown",
   "id": "6c5bebd9-3460-44b3-8d4e-171be7b534a2",
   "metadata": {},
   "source": [
    "2. Normalizacja danych"
   ]
  },
  {
   "cell_type": "code",
   "execution_count": 31,
   "id": "7c66d409-7031-4637-b705-46f53a750875",
   "metadata": {},
   "outputs": [],
   "source": [
    "scaler = StandardScaler()\n",
    "scaled_data = scaler.fit_transform(df)"
   ]
  },
  {
   "cell_type": "code",
   "execution_count": 33,
   "id": "75083e2b-b92a-4481-8d22-cf0a8d4e0fe6",
   "metadata": {},
   "outputs": [
    {
     "data": {
      "text/plain": [
       "numpy.ndarray"
      ]
     },
     "execution_count": 33,
     "metadata": {},
     "output_type": "execute_result"
    }
   ],
   "source": [
    "type(scaled_data)"
   ]
  },
  {
   "cell_type": "markdown",
   "id": "cae6840c-653c-4c7a-8465-aa77c8ef71db",
   "metadata": {},
   "source": [
    "3. Zastosowanie PCA"
   ]
  },
  {
   "cell_type": "code",
   "execution_count": 38,
   "id": "0420f714-1210-42c7-9bab-5c9e293a2858",
   "metadata": {},
   "outputs": [
    {
     "data": {
      "text/html": [
       "<div>\n",
       "<style scoped>\n",
       "    .dataframe tbody tr th:only-of-type {\n",
       "        vertical-align: middle;\n",
       "    }\n",
       "\n",
       "    .dataframe tbody tr th {\n",
       "        vertical-align: top;\n",
       "    }\n",
       "\n",
       "    .dataframe thead th {\n",
       "        text-align: right;\n",
       "    }\n",
       "</style>\n",
       "<table border=\"1\" class=\"dataframe\">\n",
       "  <thead>\n",
       "    <tr style=\"text-align: right;\">\n",
       "      <th></th>\n",
       "      <th>PC1</th>\n",
       "      <th>PC2</th>\n",
       "    </tr>\n",
       "  </thead>\n",
       "  <tbody>\n",
       "    <tr>\n",
       "      <th>0</th>\n",
       "      <td>-2.477415</td>\n",
       "      <td>-0.813820</td>\n",
       "    </tr>\n",
       "    <tr>\n",
       "      <th>1</th>\n",
       "      <td>0.474674</td>\n",
       "      <td>-1.093427</td>\n",
       "    </tr>\n",
       "    <tr>\n",
       "      <th>2</th>\n",
       "      <td>-1.715968</td>\n",
       "      <td>-0.512550</td>\n",
       "    </tr>\n",
       "    <tr>\n",
       "      <th>3</th>\n",
       "      <td>1.972348</td>\n",
       "      <td>0.110938</td>\n",
       "    </tr>\n",
       "    <tr>\n",
       "      <th>4</th>\n",
       "      <td>-0.507684</td>\n",
       "      <td>2.299569</td>\n",
       "    </tr>\n",
       "  </tbody>\n",
       "</table>\n",
       "</div>"
      ],
      "text/plain": [
       "        PC1       PC2\n",
       "0 -2.477415 -0.813820\n",
       "1  0.474674 -1.093427\n",
       "2 -1.715968 -0.512550\n",
       "3  1.972348  0.110938\n",
       "4 -0.507684  2.299569"
      ]
     },
     "execution_count": 38,
     "metadata": {},
     "output_type": "execute_result"
    }
   ],
   "source": [
    "pca = PCA(n_components=2)\n",
    "pca_result = pca.fit_transform(scaled_data)\n",
    "\n",
    "pca_df = pd.DataFrame(data=pca_result, columns=['PC1', 'PC2'])\n",
    "pca_df.head()"
   ]
  },
  {
   "cell_type": "markdown",
   "id": "b50b23b2-7e55-47d8-84b7-709684360769",
   "metadata": {},
   "source": [
    "4. Wizualizacja wyników"
   ]
  },
  {
   "cell_type": "code",
   "execution_count": 41,
   "id": "3b162747-d69b-4585-b766-409ff69e448e",
   "metadata": {},
   "outputs": [
    {
     "data": {
      "image/png": "[encoded data removed]",
      "text/plain": [
       "<Figure size 800x600 with 1 Axes>"
      ]
     },
     "metadata": {},
     "output_type": "display_data"
    }
   ],
   "source": [
    "# Dodanie etykiet do wynikowego DataFrame\n",
    "pca_df['Klient'] = df.index\n",
    "\n",
    "# Tworzenie wykresu\n",
    "plt.figure(figsize=(8, 6))\n",
    "sns.scatterplot(x='PC1', y='PC2', data=pca_df, hue='Klient', palette='viridis', s=100)\n",
    "plt.title('Wizualizacja danych klientów po zastosowaniu PCA')\n",
    "plt.xlabel('Główna składowa 1')\n",
    "plt.ylabel('Główna składowa 2')\n",
    "plt.legend(title='Klient')\n",
    "plt.show()"
   ]
  },
  {
   "cell_type": "code",
   "execution_count": null,
   "id": "7357dc91-44b0-4117-a911-da0080d96296",
   "metadata": {},
   "outputs": [],
   "source": []
  }
 ],
 "metadata": {
  "kernelspec": {
   "display_name": "Python 3 (ipykernel)",
   "language": "python",
   "name": "python3"
  },
  "language_info": {
   "codemirror_mode": {
    "name": "ipython",
    "version": 3
   },
   "file_extension": ".py",
   "mimetype": "text/x-python",
   "name": "python",
   "nbconvert_exporter": "python",
   "pygments_lexer": "ipython3",
   "version": "3.12.7"
  }
 },
 "nbformat": 4,
 "nbformat_minor": 5
}
