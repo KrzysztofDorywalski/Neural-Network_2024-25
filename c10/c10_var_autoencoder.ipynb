{
 "cells": [
  {
   "cell_type": "markdown",
   "id": "03925550-1919-4382-98a3-5055cee261df",
   "metadata": {},
   "source": [
    "Przykład użycia autoenkodera wariacyjnego (VAE - variational autoencoder) do geerowania obrazów."
   ]
  },
  {
   "cell_type": "code",
   "execution_count": 3,
   "id": "12922586-513f-434d-b626-fb39f2b811c8",
   "metadata": {},
   "outputs": [],
   "source": [
    "import torch\n",
    "import torch.nn as nn\n",
    "import torch.optim as optim\n",
    "from torchvision import datasets, transforms\n",
    "from torch.utils.data import DataLoader\n",
    "import matplotlib.pyplot as plt"
   ]
  },
  {
   "cell_type": "code",
   "execution_count": 5,
   "id": "c616e65c-2bd7-455c-80b2-f0b48a9c8e76",
   "metadata": {},
   "outputs": [],
   "source": [
    "class VariationalAutoencoder(nn.Module):\n",
    "    def __init__(self, input_dim, latent_dim):\n",
    "        super(VariationalAutoencoder, self).__init__()\n",
    "        \n",
    "        self.encoder = nn.Sequential(\n",
    "            nn.Linear(input_dim, 256),\n",
    "            nn.ReLU(),\n",
    "            nn.Linear(256, 128),\n",
    "            nn.ReLU()\n",
    "        )\n",
    "        \n",
    "        # Warstwy parametrów latentnych\n",
    "        self.fc_mu = nn.Linear(128, latent_dim)  # Średnia\n",
    "        self.fc_logvar = nn.Linear(128, latent_dim)  # Log-wariancja\n",
    "        \n",
    "        # Dekoder\n",
    "        self.decoder = nn.Sequential(\n",
    "            nn.Linear(latent_dim, 128),\n",
    "            nn.ReLU(),\n",
    "            nn.Linear(128, 256),\n",
    "            nn.ReLU(),\n",
    "            nn.Linear(256, input_dim),\n",
    "            nn.Sigmoid()  # Sigmoid dla wartości w zakresie [0, 1]\n",
    "        )\n",
    "    \n",
    "    def encode(self, x):\n",
    "        x = self.encoder(x)\n",
    "        mu = self.fc_mu(x)\n",
    "        logvar = self.fc_logvar(x)\n",
    "        return mu, logvar\n",
    "    \n",
    "    def reparameterize(self, mu, logvar):\n",
    "        # Reparametryzacja: z = mu + epsilon * sigma\n",
    "        std = torch.exp(0.5 * logvar)\n",
    "        eps = torch.randn_like(std)\n",
    "        return mu + eps * std\n",
    "    \n",
    "    def decode(self, z):\n",
    "        return self.decoder(z)\n",
    "    \n",
    "    def forward(self, x):\n",
    "        mu, logvar = self.encode(x)\n",
    "        z = self.reparameterize(mu, logvar)\n",
    "        reconstructed = self.decode(z)\n",
    "        return reconstructed, mu, logvar"
   ]
  },
  {
   "cell_type": "code",
   "execution_count": 7,
   "id": "637f167c-89f1-4c1e-af35-9e91b08e9817",
   "metadata": {},
   "outputs": [],
   "source": [
    "# Funkcja straty dla VAE\n",
    "def loss_function(reconstructed, original, mu, logvar):\n",
    "    # Rekonstrukcja (binary cross-entropy)\n",
    "    reconstruction_loss = nn.functional.binary_cross_entropy(reconstructed, original, reduction='sum')\n",
    "    # Strata Kullback-Leibler\n",
    "    kl_divergence = -0.5 * torch.sum(1 + logvar - mu.pow(2) - logvar.exp())\n",
    "    return reconstruction_loss + kl_divergence"
   ]
  },
  {
   "cell_type": "code",
   "execution_count": 9,
   "id": "318502d0-e43f-44eb-9fe5-b68e27168784",
   "metadata": {},
   "outputs": [],
   "source": [
    "# Przygotowanie danych\n",
    "transform = transforms.Compose([\n",
    "    transforms.ToTensor(),\n",
    "    transforms.Lambda(lambda x: x.view(-1))  # Flatten wejście (28x28 -> 784)\n",
    "])\n",
    "\n",
    "train_dataset = datasets.MNIST(root='./data', train=True, transform=transform, download=True)\n",
    "train_loader = DataLoader(train_dataset, batch_size=64, shuffle=True)"
   ]
  },
  {
   "cell_type": "code",
   "execution_count": 11,
   "id": "4cd9a555-9624-47c1-ad26-19f3d274f115",
   "metadata": {},
   "outputs": [],
   "source": [
    "# Inicjalizacja modelu, optymalizatora i parametrów\n",
    "input_dim = 28 * 28\n",
    "latent_dim = 10\n",
    "model = VariationalAutoencoder(input_dim, latent_dim)\n",
    "optimizer = optim.Adam(model.parameters(), lr=0.001)"
   ]
  },
  {
   "cell_type": "code",
   "execution_count": 13,
   "id": "74527caf-e756-4ae8-8526-ea449f76d59b",
   "metadata": {},
   "outputs": [
    {
     "name": "stdout",
     "output_type": "stream",
     "text": [
      "Epoch [1/10], Loss: 168.6683\n",
      "Epoch [2/10], Loss: 125.1474\n",
      "Epoch [3/10], Loss: 117.6062\n",
      "Epoch [4/10], Loss: 114.3471\n",
      "Epoch [5/10], Loss: 112.3111\n",
      "Epoch [6/10], Loss: 110.8981\n",
      "Epoch [7/10], Loss: 109.8547\n",
      "Epoch [8/10], Loss: 109.0654\n",
      "Epoch [9/10], Loss: 108.3662\n",
      "Epoch [10/10], Loss: 107.6962\n"
     ]
    }
   ],
   "source": [
    "# Trening VAE\n",
    "num_epochs = 10\n",
    "for epoch in range(num_epochs):\n",
    "    model.train()\n",
    "    train_loss = 0\n",
    "    for data, _ in train_loader:  # Ignorujemy etykiety\n",
    "        inputs = data\n",
    "        optimizer.zero_grad()\n",
    "        \n",
    "        # Forward pass\n",
    "        reconstructed, mu, logvar = model(inputs)\n",
    "        loss = loss_function(reconstructed, inputs, mu, logvar)\n",
    "        \n",
    "        # Backward pass\n",
    "        loss.backward()\n",
    "        optimizer.step()\n",
    "        \n",
    "        train_loss += loss.item()\n",
    "    \n",
    "    avg_loss = train_loss / len(train_loader.dataset)\n",
    "    print(f'Epoch [{epoch+1}/{num_epochs}], Loss: {avg_loss:.4f}')"
   ]
  },
  {
   "cell_type": "code",
   "execution_count": 15,
   "id": "a3d02615-0106-46de-b70d-5fe36b04ddc9",
   "metadata": {},
   "outputs": [],
   "source": [
    "# Generowanie nowych danych\n",
    "model.eval()\n",
    "with torch.no_grad():\n",
    "    # Losowe próbki w przestrzeni latentnej\n",
    "    z = torch.randn(16, latent_dim)\n",
    "    generated_images = model.decode(z)"
   ]
  },
  {
   "cell_type": "code",
   "execution_count": 17,
   "id": "f31c388c-1429-4f07-9038-52dd9b75af83",
   "metadata": {},
   "outputs": [
    {
     "data": {
      "image/png": "[encoded data removed]",
      "text/plain": [
       "<Figure size 800x800 with 16 Axes>"
      ]
     },
     "metadata": {},
     "output_type": "display_data"
    }
   ],
   "source": [
    "# Wizualizacja wygenerowanych obrazów\n",
    "plt.figure(figsize=(8, 8))\n",
    "for i in range(16):\n",
    "    ax = plt.subplot(4, 4, i + 1)\n",
    "    plt.imshow(generated_images[i].view(28, 28).detach().numpy(), cmap='gray')\n",
    "    plt.axis('off')\n",
    "plt.show()"
   ]
  },
  {
   "cell_type": "code",
   "execution_count": null,
   "id": "ea1dbb5c-5e59-438c-b993-a1df39c51956",
   "metadata": {},
   "outputs": [],
   "source": []
  }
 ],
 "metadata": {
  "kernelspec": {
   "display_name": "Python 3 (ipykernel)",
   "language": "python",
   "name": "python3"
  },
  "language_info": {
   "codemirror_mode": {
    "name": "ipython",
    "version": 3
   },
   "file_extension": ".py",
   "mimetype": "text/x-python",
   "name": "python",
   "nbconvert_exporter": "python",
   "pygments_lexer": "ipython3",
   "version": "3.12.7"
  }
 },
 "nbformat": 4,
 "nbformat_minor": 5
}
