{
 "cells": [
  {
   "cell_type": "markdown",
   "id": "2f04fb00-bd8f-4ecd-b47e-5bcca0a9ab9e",
   "metadata": {},
   "source": [
    "#### Logostic regression w klasyfikacji binarner występowania raka piersi "
   ]
  },
  {
   "cell_type": "code",
   "execution_count": 2,
   "id": "32fcacbd-cc52-47ae-8fa3-f8af72f9e40a",
   "metadata": {},
   "outputs": [],
   "source": [
    "#importowanie modułów\n",
    "import torch\n",
    "import torch.nn as nn\n",
    "import numpy as np\n",
    "from sklearn import datasets\n",
    "from sklearn.model_selection import train_test_split\n",
    "from sklearn.preprocessing import StandardScaler"
   ]
  },
  {
   "cell_type": "markdown",
   "id": "2f3d169d-d949-4b3b-99db-bdc980c3aae8",
   "metadata": {},
   "source": [
    "#### 1). Data loading"
   ]
  },
  {
   "cell_type": "code",
   "execution_count": 30,
   "id": "a1051e90-8dea-4440-b387-3dcc8f9f5457",
   "metadata": {},
   "outputs": [],
   "source": [
    "#import danych\n",
    "breast_cancer = datasets.load_breast_cancer() \n",
    "x, y = breast_cancer.data, breast_cancer.target"
   ]
  },
  {
   "cell_type": "code",
   "execution_count": 32,
   "id": "4ce7e632-9320-472f-baed-26091e1033c3",
   "metadata": {},
   "outputs": [
    {
     "name": "stdout",
     "output_type": "stream",
     "text": [
      "n_samples = 569, n_features = 30\n"
     ]
    }
   ],
   "source": [
    "n_samples, n_features = x.shape\n",
    "print(f'n_samples = {n_samples}, n_features = {n_features}')"
   ]
  },
  {
   "cell_type": "code",
   "execution_count": 34,
   "id": "d2711a77-3a41-40b0-aa0b-22924945ed8a",
   "metadata": {},
   "outputs": [],
   "source": [
    "#podział na zbiór testowy i treningowy\n",
    "x_train, x_test, y_train, y_test = train_test_split(x, y, test_size=0.2, random_state=1)"
   ]
  },
  {
   "cell_type": "code",
   "execution_count": 36,
   "id": "42614bfd-5b29-4caf-a40a-f3482b0d648c",
   "metadata": {},
   "outputs": [],
   "source": [
    "#skalowanie danych\n",
    "sc = StandardScaler()\n",
    "x_train = sc.fit_transform(x_train)\n",
    "x_test = sc.transform(x_test)"
   ]
  },
  {
   "cell_type": "code",
   "execution_count": 38,
   "id": "f7694a17-a349-4b8b-b5c9-5a35ae84a0b4",
   "metadata": {},
   "outputs": [],
   "source": [
    "#konwersja numpy->torch\n",
    "x_train = torch.from_numpy(x_train.astype(np.float32))\n",
    "x_test = torch.from_numpy(x_test.astype(np.float32))\n",
    "y_train = torch.from_numpy(y_train.astype(np.float32))\n",
    "y_test = torch.from_numpy(y_test.astype(np.float32))"
   ]
  },
  {
   "cell_type": "code",
   "execution_count": 40,
   "id": "7acf6f07-17ea-4f5f-a832-9295f7fc2156",
   "metadata": {},
   "outputs": [],
   "source": [
    "#przekształcenie do wektorów kolumnowych\n",
    "y_train = y_train.view(y_train.shape[0],1)\n",
    "y_test = y_test.view(y_test.shape[0],1)"
   ]
  },
  {
   "cell_type": "markdown",
   "id": "7c9129a6-ef28-4126-9544-9361fb41956c",
   "metadata": {},
   "source": [
    "#### 2). Model"
   ]
  },
  {
   "cell_type": "markdown",
   "id": "cea6c798-5c09-4816-8861-f097a7702955",
   "metadata": {},
   "source": [
    "zdefiniuj klasę dziedziczącą po nn.Module, model liniowy + funkcja aktywacji sigmoid, 1 warstwa"
   ]
  },
  {
   "cell_type": "code",
   "execution_count": 23,
   "id": "e61a3731-6e15-4889-8adf-af4325d63f89",
   "metadata": {},
   "outputs": [],
   "source": [
    "#your code here"
   ]
  },
  {
   "cell_type": "markdown",
   "id": "65a6aff6-fd9e-4d0e-9191-15400ca6c8a8",
   "metadata": {},
   "source": [
    "#### 3). Loss + optimizer"
   ]
  },
  {
   "cell_type": "code",
   "execution_count": 42,
   "id": "34c10cc6-bc39-4f52-a166-3eb0c53bff0e",
   "metadata": {},
   "outputs": [],
   "source": [
    "#your code here (SGD + binary cross entropy)"
   ]
  },
  {
   "cell_type": "markdown",
   "id": "1912580a-5367-4d9a-85f3-6d0fed554dec",
   "metadata": {},
   "source": [
    "#### 4). Trainning loop"
   ]
  },
  {
   "cell_type": "code",
   "execution_count": 45,
   "id": "284a01f4-c7be-48ac-9f54-820a6c6b0bc8",
   "metadata": {},
   "outputs": [],
   "source": [
    "#your code here"
   ]
  },
  {
   "cell_type": "code",
   "execution_count": 49,
   "id": "f89f7bcd-ac40-4f0a-9b62-205368b8f729",
   "metadata": {},
   "outputs": [
    {
     "ename": "NameError",
     "evalue": "name 'model' is not defined",
     "output_type": "error",
     "traceback": [
      "\u001b[1;31m---------------------------------------------------------------------------\u001b[0m",
      "\u001b[1;31mNameError\u001b[0m                                 Traceback (most recent call last)",
      "Cell \u001b[1;32mIn[49], line 3\u001b[0m\n\u001b[0;32m      1\u001b[0m \u001b[38;5;66;03m#data evaluation\u001b[39;00m\n\u001b[0;32m      2\u001b[0m \u001b[38;5;28;01mwith\u001b[39;00m torch\u001b[38;5;241m.\u001b[39mno_grad():\n\u001b[1;32m----> 3\u001b[0m     y_pred \u001b[38;5;241m=\u001b[39m model(x_test)\n\u001b[0;32m      4\u001b[0m     y_pred_round \u001b[38;5;241m=\u001b[39m y_pred\u001b[38;5;241m.\u001b[39mround()\n\u001b[0;32m      5\u001b[0m     acc \u001b[38;5;241m=\u001b[39m y_pred_round\u001b[38;5;241m.\u001b[39meq(y_test)\u001b[38;5;241m.\u001b[39msum() \u001b[38;5;241m/\u001b[39m \u001b[38;5;28mfloat\u001b[39m(y_test\u001b[38;5;241m.\u001b[39mshape[\u001b[38;5;241m0\u001b[39m])\n",
      "\u001b[1;31mNameError\u001b[0m: name 'model' is not defined"
     ]
    }
   ],
   "source": [
    "#data evaluation\n",
    "with torch.no_grad():\n",
    "    y_pred = model(x_test)\n",
    "    y_pred_round = y_pred.round()\n",
    "    acc = y_pred_round.eq(y_test).sum() / float(y_test.shape[0])\n",
    "    print(f'accuracy = {acc:.4f}')"
   ]
  },
  {
   "cell_type": "code",
   "execution_count": null,
   "id": "46d916fb-8bc8-47c8-9ee9-3fb7e39383a1",
   "metadata": {},
   "outputs": [],
   "source": []
  }
 ],
 "metadata": {
  "kernelspec": {
   "display_name": "Python 3 (ipykernel)",
   "language": "python",
   "name": "python3"
  },
  "language_info": {
   "codemirror_mode": {
    "name": "ipython",
    "version": 3
   },
   "file_extension": ".py",
   "mimetype": "text/x-python",
   "name": "python",
   "nbconvert_exporter": "python",
   "pygments_lexer": "ipython3",
   "version": "3.12.7"
  }
 },
 "nbformat": 4,
 "nbformat_minor": 5
}
