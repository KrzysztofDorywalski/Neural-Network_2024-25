{
 "cells": [
  {
   "cell_type": "markdown",
   "id": "4c3db3b7",
   "metadata": {},
   "source": [
    "# C1: Wprowadzenie do PyTorch\n",
    "\n",
    "## Podstawy pracy z tensorami"
   ]
  },
  {
   "cell_type": "code",
   "execution_count": 2,
   "id": "1f540944",
   "metadata": {},
   "outputs": [],
   "source": [
    "import torch #importowanie pakietu torch"
   ]
  },
  {
   "cell_type": "markdown",
   "id": "c6ef5609",
   "metadata": {},
   "source": [
    "### 1. Tworzenie tensorów w Torch"
   ]
  },
  {
   "cell_type": "code",
   "execution_count": 3,
   "id": "98da3adc",
   "metadata": {},
   "outputs": [
    {
     "name": "stdout",
     "output_type": "stream",
     "text": [
      "tensor([0.])\n"
     ]
    }
   ],
   "source": [
    "#pusty tensor 1D (skalar)\n",
    "x = torch.empty(1)\n",
    "print(x)"
   ]
  },
  {
   "cell_type": "code",
   "execution_count": 5,
   "id": "8ea6770f",
   "metadata": {},
   "outputs": [
    {
     "name": "stdout",
     "output_type": "stream",
     "text": [
      "tensor([[0., 0.],\n",
      "        [0., 0.]])\n"
     ]
    }
   ],
   "source": [
    "#pusty tensor 2D (macierz)\n",
    "x = torch.empty(2,2)\n",
    "print(x)"
   ]
  },
  {
   "cell_type": "code",
   "execution_count": 6,
   "id": "ee002369",
   "metadata": {},
   "outputs": [
    {
     "name": "stdout",
     "output_type": "stream",
     "text": [
      "tensor([[[7.1575e+21, 1.9674e-42],\n",
      "         [0.0000e+00, 0.0000e+00]],\n",
      "\n",
      "        [[0.0000e+00, 0.0000e+00],\n",
      "         [0.0000e+00, 0.0000e+00]]])\n"
     ]
    }
   ],
   "source": [
    "#tensory wielowymiarowe\n",
    "x = torch.empty(2,2,2)\n",
    "print(x)"
   ]
  },
  {
   "cell_type": "code",
   "execution_count": 13,
   "id": "129bdca2",
   "metadata": {},
   "outputs": [
    {
     "name": "stdout",
     "output_type": "stream",
     "text": [
      "tensor([[0.7982, 0.4397, 0.6289],\n",
      "        [0.9519, 0.7136, 0.8103],\n",
      "        [0.4103, 0.8274, 0.3901]])\n"
     ]
    }
   ],
   "source": [
    "#tensor liczb losowych\n",
    "x = torch.rand(3,3)\n",
    "print(x)"
   ]
  },
  {
   "cell_type": "code",
   "execution_count": 14,
   "id": "580e0eaa",
   "metadata": {},
   "outputs": [
    {
     "name": "stdout",
     "output_type": "stream",
     "text": [
      "tensor([[0., 0.],\n",
      "        [0., 0.]])\n",
      "tensor([[1., 1.],\n",
      "        [1., 1.]])\n"
     ]
    }
   ],
   "source": [
    "#tensor zer/jedynek\n",
    "x = torch.zeros(2,2)\n",
    "print(x)\n",
    "x = torch.ones(2,2)\n",
    "print(x)"
   ]
  },
  {
   "cell_type": "code",
   "execution_count": 15,
   "id": "f411e472",
   "metadata": {},
   "outputs": [
    {
     "name": "stdout",
     "output_type": "stream",
     "text": [
      "torch.float32\n",
      "torch.Size([2, 2])\n"
     ]
    }
   ],
   "source": [
    "#sprawdzenie typu\n",
    "print(x.dtype)\n",
    "\n",
    "#sprawdzenie rozmiaru\n",
    "print(x.size())"
   ]
  },
  {
   "cell_type": "code",
   "execution_count": 21,
   "id": "db5db9f2",
   "metadata": {},
   "outputs": [
    {
     "name": "stdout",
     "output_type": "stream",
     "text": [
      "torch.int32\n"
     ]
    }
   ],
   "source": [
    "#zmiana typu\n",
    "x=torch.ones(2,2, dtype=torch.int) #inne typy: double, float, float16 itp.\n",
    "print(x.dtype)"
   ]
  },
  {
   "cell_type": "code",
   "execution_count": 23,
   "id": "0e9151c1",
   "metadata": {},
   "outputs": [
    {
     "name": "stdout",
     "output_type": "stream",
     "text": [
      "tensor([[1, 2, 3],\n",
      "        [2, 3, 4]])\n"
     ]
    }
   ],
   "source": [
    "#utowrzenie tensora z list\n",
    "x = torch.tensor([[1, 2, 3],\n",
    "                  [2, 3, 4]])\n",
    "print(x)"
   ]
  },
  {
   "cell_type": "markdown",
   "id": "565ea733",
   "metadata": {},
   "source": [
    "### 2. Operacje na tensorach"
   ]
  },
  {
   "cell_type": "code",
   "execution_count": 24,
   "id": "9a4464c9",
   "metadata": {},
   "outputs": [
    {
     "name": "stdout",
     "output_type": "stream",
     "text": [
      "tensor([[0.1474, 0.2570],\n",
      "        [0.2508, 0.6959]])\n",
      "tensor([[0.0008, 0.7627],\n",
      "        [0.6736, 0.7960]])\n"
     ]
    }
   ],
   "source": [
    "x=torch.rand(2,2)\n",
    "y=torch.rand(2,2)\n",
    "print(x); print(y)"
   ]
  },
  {
   "cell_type": "code",
   "execution_count": 30,
   "id": "68f55fa5",
   "metadata": {},
   "outputs": [
    {
     "name": "stdout",
     "output_type": "stream",
     "text": [
      "tensor([[0.2956, 1.2767],\n",
      "        [1.1753, 2.1878]])\n",
      "tensor([[0.2956, 1.2767],\n",
      "        [1.1753, 2.1878]])\n",
      "tensor([[0.2956, 1.2767],\n",
      "        [1.1753, 2.1878]])\n"
     ]
    }
   ],
   "source": [
    "#dodawanie\n",
    "z=x+y\n",
    "print(z)\n",
    "\n",
    "#lub\n",
    "z = torch.add(x,y)\n",
    "print(z)\n",
    "\n",
    "#lub\n",
    "y.add_(x)\n",
    "print(y)"
   ]
  },
  {
   "cell_type": "code",
   "execution_count": 31,
   "id": "3693d169",
   "metadata": {},
   "outputs": [
    {
     "name": "stdout",
     "output_type": "stream",
     "text": [
      "tensor([[-0.1482, -1.0197],\n",
      "        [-0.9244, -1.4919]])\n",
      "tensor([[-0.1482, -1.0197],\n",
      "        [-0.9244, -1.4919]])\n",
      "tensor([[0.1482, 1.0197],\n",
      "        [0.9244, 1.4919]])\n"
     ]
    }
   ],
   "source": [
    "#odejmowanie\n",
    "z=x-y\n",
    "print(z)\n",
    "\n",
    "#lub\n",
    "z = torch.sub(x,y)\n",
    "print(z)\n",
    "\n",
    "#lub\n",
    "y.sub_(x)\n",
    "print(y)"
   ]
  },
  {
   "cell_type": "code",
   "execution_count": 32,
   "id": "c6578720",
   "metadata": {},
   "outputs": [
    {
     "name": "stdout",
     "output_type": "stream",
     "text": [
      "tensor([[0.0218, 0.2621],\n",
      "        [0.2319, 1.0382]])\n",
      "tensor([[0.0218, 0.2621],\n",
      "        [0.2319, 1.0382]])\n",
      "tensor([[0.0218, 0.2621],\n",
      "        [0.2319, 1.0382]])\n"
     ]
    }
   ],
   "source": [
    "#mnożenie\n",
    "z=x*y\n",
    "print(z)\n",
    "\n",
    "#lub\n",
    "z = torch.mul(x,y)\n",
    "print(z)\n",
    "\n",
    "#lub\n",
    "y.mul_(x)\n",
    "print(y)"
   ]
  },
  {
   "cell_type": "code",
   "execution_count": 33,
   "id": "94d08fb1",
   "metadata": {},
   "outputs": [
    {
     "name": "stdout",
     "output_type": "stream",
     "text": [
      "tensor([[6.7470, 0.9807],\n",
      "        [1.0818, 0.6703]])\n",
      "tensor([[6.7470, 0.9807],\n",
      "        [1.0818, 0.6703]])\n",
      "tensor([[0.1482, 1.0197],\n",
      "        [0.9244, 1.4919]])\n"
     ]
    }
   ],
   "source": [
    "#dzielenie\n",
    "z=x/y\n",
    "print(z)\n",
    "\n",
    "#lub\n",
    "z = torch.div(x,y)\n",
    "print(z)\n",
    "\n",
    "#lub\n",
    "y.div_(x)\n",
    "print(y)"
   ]
  },
  {
   "cell_type": "code",
   "execution_count": 46,
   "id": "c156eb5d",
   "metadata": {},
   "outputs": [
    {
     "name": "stdout",
     "output_type": "stream",
     "text": [
      "tensor([[6.2144e-01, 7.0903e-01, 4.5268e-01, 6.0890e-01, 7.5206e-01],\n",
      "        [3.1191e-01, 6.6295e-01, 5.1434e-01, 1.2021e-01, 9.4694e-01],\n",
      "        [7.5627e-01, 7.7373e-01, 1.7201e-01, 4.4788e-01, 7.5924e-01],\n",
      "        [5.2884e-01, 9.0927e-04, 7.2166e-01, 5.1189e-01, 4.7568e-01]])\n",
      "tensor([0.6214, 0.3119, 0.7563, 0.5288])\n",
      "tensor([0.6089, 0.1202, 0.4479, 0.5119])\n",
      "tensor([0.3119, 0.6629, 0.5143, 0.1202, 0.9469])\n",
      "tensor(0.5143)\n",
      "0.5143415927886963\n",
      "tensor([[0.6214, 0.7090, 0.4527, 0.6089, 0.7521],\n",
      "        [0.3119, 0.6629, 0.5143, 0.1202, 0.9469]])\n"
     ]
    }
   ],
   "source": [
    "#przeglądanie wybranych elementów tensorów\n",
    "x = torch.rand(4,5)\n",
    "print(x)\n",
    "\n",
    "print(x[:, 0]) #tylko 1-sza kolumna\n",
    "print(x[:, 3]) #tylko 2-ga kolumna\n",
    "print(x[1, :]) #drugi wiersz\n",
    "print(x[1, 2]) #pojedyńczy element\n",
    "print(x[1, 2].item()) #j. w.\n",
    "print(x[0:2 :]) #dwa pierwsze wiersze itd."
   ]
  },
  {
   "cell_type": "code",
   "execution_count": 53,
   "id": "72d6ae5a",
   "metadata": {},
   "outputs": [
    {
     "name": "stdout",
     "output_type": "stream",
     "text": [
      "tensor([[6.2144e-01, 7.0903e-01, 4.5268e-01, 6.0890e-01, 7.5206e-01],\n",
      "        [3.1191e-01, 6.6295e-01, 5.1434e-01, 1.2021e-01, 9.4694e-01],\n",
      "        [7.5627e-01, 7.7373e-01, 1.7201e-01, 4.4788e-01, 7.5924e-01],\n",
      "        [5.2884e-01, 9.0927e-04, 7.2166e-01, 5.1189e-01, 4.7568e-01]])\n",
      "torch.Size([4, 5])\n",
      "tensor([6.2144e-01, 7.0903e-01, 4.5268e-01, 6.0890e-01, 7.5206e-01, 3.1191e-01,\n",
      "        6.6295e-01, 5.1434e-01, 1.2021e-01, 9.4694e-01, 7.5627e-01, 7.7373e-01,\n",
      "        1.7201e-01, 4.4788e-01, 7.5924e-01, 5.2884e-01, 9.0927e-04, 7.2166e-01,\n",
      "        5.1189e-01, 4.7568e-01])\n",
      "torch.Size([20])\n",
      "tensor([[6.2144e-01, 7.0903e-01, 4.5268e-01, 6.0890e-01, 7.5206e-01, 3.1191e-01,\n",
      "         6.6295e-01, 5.1434e-01, 1.2021e-01, 9.4694e-01],\n",
      "        [7.5627e-01, 7.7373e-01, 1.7201e-01, 4.4788e-01, 7.5924e-01, 5.2884e-01,\n",
      "         9.0927e-04, 7.2166e-01, 5.1189e-01, 4.7568e-01]])\n",
      "torch.Size([2, 10])\n",
      "tensor([[6.2144e-01, 7.0903e-01],\n",
      "        [4.5268e-01, 6.0890e-01],\n",
      "        [7.5206e-01, 3.1191e-01],\n",
      "        [6.6295e-01, 5.1434e-01],\n",
      "        [1.2021e-01, 9.4694e-01],\n",
      "        [7.5627e-01, 7.7373e-01],\n",
      "        [1.7201e-01, 4.4788e-01],\n",
      "        [7.5924e-01, 5.2884e-01],\n",
      "        [9.0927e-04, 7.2166e-01],\n",
      "        [5.1189e-01, 4.7568e-01]])\n",
      "torch.Size([10, 2])\n"
     ]
    }
   ],
   "source": [
    "#zmiana rozmiaru\n",
    "print(x); print(x.size())\n",
    "\n",
    "y = x.view(20) #wszystkie elementy x jako jeden wektor\n",
    "print(y); print(y.size())\n",
    "\n",
    "y = x.view(-1, 10) #2x10\n",
    "print(y); print(y.size())\n",
    "\n",
    "y = x.view(10, -1) #10x2 \n",
    "print(y); print(y.size())"
   ]
  },
  {
   "cell_type": "markdown",
   "id": "471c2a55",
   "metadata": {},
   "source": [
    "### 3. Konwersja pomiędzy torch a numpy"
   ]
  },
  {
   "cell_type": "code",
   "execution_count": 54,
   "id": "5b1fd9ca",
   "metadata": {},
   "outputs": [],
   "source": [
    "import numpy as np"
   ]
  },
  {
   "cell_type": "code",
   "execution_count": 64,
   "id": "e7311c47",
   "metadata": {},
   "outputs": [
    {
     "name": "stdout",
     "output_type": "stream",
     "text": [
      "<class 'torch.Tensor'>\n",
      "torch.float32\n",
      "tensor([1., 1., 1., 1.])\n",
      "<class 'numpy.ndarray'>\n",
      "float32\n",
      "[1. 1. 1. 1.]\n",
      "tensor([2., 2., 2., 2.])\n",
      "[2. 2. 2. 2.]\n"
     ]
    }
   ],
   "source": [
    "#torch -> numpy\n",
    "x = torch.ones(4)\n",
    "print(type(x))\n",
    "print(x.dtype)\n",
    "print(x)\n",
    "y=x.numpy()\n",
    "print(type(y))\n",
    "print(y.dtype)\n",
    "print(y)\n",
    "\n",
    "#Uwaga - oba obiekty wskazują do tej samej lokacji w pamięci! (jeśli implementacja na CPU)\n",
    "x += 1\n",
    "print(x); print(y)"
   ]
  },
  {
   "cell_type": "code",
   "execution_count": 76,
   "id": "19e6d0a6",
   "metadata": {},
   "outputs": [
    {
     "name": "stdout",
     "output_type": "stream",
     "text": [
      "<class 'numpy.ndarray'>\n",
      "float64\n",
      "[1. 1. 1. 1.]\n",
      "<class 'torch.Tensor'>\n",
      "torch.float64\n",
      "tensor([1., 1., 1., 1.], dtype=torch.float64)\n"
     ]
    }
   ],
   "source": [
    "#numpy -> torch\n",
    "x = np.ones(4)\n",
    "print(type(x))\n",
    "print(x.dtype)\n",
    "print(x)\n",
    "y=torch.from_numpy(x)\n",
    "print(type(y))\n",
    "print(y.dtype)\n",
    "print(y)"
   ]
  },
  {
   "cell_type": "markdown",
   "id": "4792773e",
   "metadata": {},
   "source": [
    "### 4. Użycie GPU"
   ]
  },
  {
   "cell_type": "code",
   "execution_count": 75,
   "id": "f84c16ce",
   "metadata": {},
   "outputs": [],
   "source": [
    "if torch.cuda.is_available():\n",
    "    dev = torch.device(\"cuda\")\n",
    "    x = torch.ones(4, device=dev) #implementacja na GPU\n",
    "    \n",
    "    #utworzenie tensora na CPU i przesunięcie na GPU\n",
    "    y = torch.ones(4)\n",
    "    t = t.to(dev)\n",
    "    \n",
    "    z = x+y    #operacja wykonywana z użyciem GPU\n",
    "    z = z.to(\"cpu\") #powrót na CPU\n",
    "    print(z)"
   ]
  }
 ],
 "metadata": {
  "kernelspec": {
   "display_name": "Python 3 (ipykernel)",
   "language": "python",
   "name": "python3"
  },
  "language_info": {
   "codemirror_mode": {
    "name": "ipython",
    "version": 3
   },
   "file_extension": ".py",
   "mimetype": "text/x-python",
   "name": "python",
   "nbconvert_exporter": "python",
   "pygments_lexer": "ipython3",
   "version": "3.9.13"
  }
 },
 "nbformat": 4,
 "nbformat_minor": 5
}
