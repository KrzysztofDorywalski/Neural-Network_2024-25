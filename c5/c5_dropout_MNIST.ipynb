{
 "cells": [
  {
   "cell_type": "code",
   "execution_count": 1,
   "id": "f1535028-f1b7-43e0-a710-23fd5ead34bc",
   "metadata": {},
   "outputs": [],
   "source": [
    "import torch\n",
    "import torch.nn as nn\n",
    "import torch.optim as optim\n",
    "from torchvision import datasets, transforms\n",
    "from torch.utils.data import DataLoader\n",
    "import numpy as np\n",
    "import matplotlib.pyplot as plt"
   ]
  },
  {
   "cell_type": "code",
   "execution_count": 3,
   "id": "5cd73a1e-eaba-4ff4-bb0f-619e1a8c8a4e",
   "metadata": {},
   "outputs": [],
   "source": [
    "# Parametry\n",
    "batch_size = 64\n",
    "learning_rate = 0.001\n",
    "num_epochs = 2\n",
    "\n",
    "# Transformacje danych\n",
    "transform = transforms.Compose([\n",
    "    transforms.ToTensor(),\n",
    "    transforms.Normalize((0.5,), (0.5,))\n",
    "])\n",
    "\n",
    "# Pobieranie danych\n",
    "train_dataset = datasets.MNIST(root='data', train=True, transform=transform, download=True)\n",
    "test_dataset = datasets.MNIST(root='data', train=False, transform=transform, download=True)\n",
    "\n",
    "train_loader = DataLoader(train_dataset, batch_size=batch_size, shuffle=True)\n",
    "test_loader = DataLoader(test_dataset, batch_size=batch_size, shuffle=False)"
   ]
  },
  {
   "cell_type": "code",
   "execution_count": 7,
   "id": "97495e78-6c1f-4fa6-b520-c3102a25b743",
   "metadata": {},
   "outputs": [],
   "source": [
    "class SimpleFCNNWithDropout(nn.Module):\n",
    "    def __init__(self):\n",
    "        super(SimpleFCNNWithDropout, self).__init__()\n",
    "        self.fc1 = nn.Linear(28*28, 128)\n",
    "        self.fc2 = nn.Linear(128, 64)\n",
    "        self.fc3 = nn.Linear(64, 10)\n",
    "        \n",
    "        # Dodanie Dropout\n",
    "        self.dropout = nn.Dropout(p=0.5)  # Dropout z prawdopodobieństwem 50%\n",
    "        \n",
    "    def forward(self, x):\n",
    "        x = x.view(-1, 28*28)  # spłaszczenie obrazu\n",
    "        x = torch.relu(self.fc1(x))\n",
    "        x = self.dropout(x)  # Dropout po pierwszej warstwie\n",
    "        x = torch.relu(self.fc2(x))\n",
    "        x = self.dropout(x)  # Dropout po drugiej warstwie\n",
    "        x = self.fc3(x)\n",
    "        return x\n",
    "\n",
    "# Inicjalizacja modelu i kryterium\n",
    "model = SimpleFCNNWithDropout()\n",
    "criterion = nn.CrossEntropyLoss()"
   ]
  },
  {
   "cell_type": "code",
   "execution_count": 9,
   "id": "5c0493e3-1d16-4f44-af55-6323940d925d",
   "metadata": {},
   "outputs": [],
   "source": [
    "optimizer = optim.Adam(model.parameters(), lr=learning_rate)"
   ]
  },
  {
   "cell_type": "code",
   "execution_count": 11,
   "id": "1afd3355-893c-4866-ae78-167a19bb2c6e",
   "metadata": {},
   "outputs": [
    {
     "name": "stdout",
     "output_type": "stream",
     "text": [
      "Epoch [1/2], Loss: 0.7668\n",
      "Epoch [2/2], Loss: 0.4765\n"
     ]
    }
   ],
   "source": [
    "def train(model, train_loader, criterion, optimizer, num_epochs):\n",
    "    model.train()  # Ustawienie modelu w tryb treningowy\n",
    "    for epoch in range(num_epochs):\n",
    "        running_loss = 0\n",
    "        for images, labels in train_loader:\n",
    "            # Zero gradientów\n",
    "            optimizer.zero_grad()\n",
    "            \n",
    "            # Przekazanie przez sieć\n",
    "            outputs = model(images)\n",
    "            loss = criterion(outputs, labels)\n",
    "            \n",
    "            # Obliczenie gradientów i aktualizacja wag\n",
    "            loss.backward()\n",
    "            optimizer.step()\n",
    "            \n",
    "            running_loss += loss.item()\n",
    "        \n",
    "        avg_loss = running_loss / len(train_loader)\n",
    "        print(f\"Epoch [{epoch+1}/{num_epochs}], Loss: {avg_loss:.4f}\")\n",
    "\n",
    "train(model, train_loader, criterion, optimizer, num_epochs)"
   ]
  },
  {
   "cell_type": "code",
   "execution_count": 13,
   "id": "0299da9e-e252-4a14-adf9-2a7113297164",
   "metadata": {},
   "outputs": [
    {
     "name": "stdout",
     "output_type": "stream",
     "text": [
      "Test Loss: 0.2334, Accuracy: 92.86%\n"
     ]
    }
   ],
   "source": [
    "def evaluate(model, test_loader, criterion):\n",
    "    model.eval()  # Ustawienie modelu w tryb ewaluacji (wyłącza Dropout)\n",
    "    test_loss = 0\n",
    "    correct = 0\n",
    "    with torch.no_grad():  # Wyłącz gradienty podczas ewaluacji\n",
    "        for images, labels in test_loader:\n",
    "            outputs = model(images)\n",
    "            loss = criterion(outputs, labels)\n",
    "            test_loss += loss.item()\n",
    "            \n",
    "            # Przewidywanie\n",
    "            _, predicted = torch.max(outputs, 1)\n",
    "            correct += (predicted == labels).sum().item()\n",
    "    \n",
    "    test_loss /= len(test_loader)\n",
    "    accuracy = correct / len(test_loader.dataset)\n",
    "    print(f\"Test Loss: {test_loss:.4f}, Accuracy: {accuracy * 100:.2f}%\")\n",
    "\n",
    "evaluate(model, test_loader, criterion)"
   ]
  },
  {
   "cell_type": "code",
   "execution_count": null,
   "id": "8d395077-ddc5-47c6-924f-20bbec32020e",
   "metadata": {},
   "outputs": [],
   "source": []
  }
 ],
 "metadata": {
  "kernelspec": {
   "display_name": "Python 3 (ipykernel)",
   "language": "python",
   "name": "python3"
  },
  "language_info": {
   "codemirror_mode": {
    "name": "ipython",
    "version": 3
   },
   "file_extension": ".py",
   "mimetype": "text/x-python",
   "name": "python",
   "nbconvert_exporter": "python",
   "pygments_lexer": "ipython3",
   "version": "3.12.7"
  }
 },
 "nbformat": 4,
 "nbformat_minor": 5
}
