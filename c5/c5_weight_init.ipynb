{
 "cells": [
  {
   "cell_type": "markdown",
   "id": "a622760b-1233-43d1-aa5a-362116d779f9",
   "metadata": {},
   "source": [
    "## Inicjalizacja wag"
   ]
  },
  {
   "cell_type": "markdown",
   "id": "8962ebc3-81c3-44ef-9b5a-042eeb70b1be",
   "metadata": {},
   "source": [
    "### Inicjalizacja losowa z rozkładu normalnego lub jednostajnego"
   ]
  },
  {
   "cell_type": "code",
   "execution_count": 5,
   "id": "0dad485a-285d-4b3d-8714-951a20ac1dd0",
   "metadata": {},
   "outputs": [
    {
     "ename": "NameError",
     "evalue": "name 'input_dim' is not defined",
     "output_type": "error",
     "traceback": [
      "\u001b[1;31m---------------------------------------------------------------------------\u001b[0m",
      "\u001b[1;31mNameError\u001b[0m                                 Traceback (most recent call last)",
      "Cell \u001b[1;32mIn[5], line 3\u001b[0m\n\u001b[0;32m      1\u001b[0m \u001b[38;5;28;01mimport\u001b[39;00m \u001b[38;5;21;01mtorch\u001b[39;00m\u001b[38;5;21;01m.\u001b[39;00m\u001b[38;5;21;01mnn\u001b[39;00m \u001b[38;5;28;01mas\u001b[39;00m \u001b[38;5;21;01mnn\u001b[39;00m\n\u001b[0;32m      2\u001b[0m \u001b[38;5;66;03m#Rozkład normalny: wagi inicjalizowane losowo z rozkładu normalnego, np. o średniej 𝜇=0 i wariancji 𝜎=1\u001b[39;00m\n\u001b[1;32m----> 3\u001b[0m nn\u001b[38;5;241m.\u001b[39mLinear(input_dim, output_dim, weight_init\u001b[38;5;241m=\u001b[39mnn\u001b[38;5;241m.\u001b[39minit\u001b[38;5;241m.\u001b[39mnormal_(layer\u001b[38;5;241m.\u001b[39mweight, mean\u001b[38;5;241m=\u001b[39m\u001b[38;5;241m0.0\u001b[39m, std\u001b[38;5;241m=\u001b[39m\u001b[38;5;241m0.01\u001b[39m))\n",
      "\u001b[1;31mNameError\u001b[0m: name 'input_dim' is not defined"
     ]
    }
   ],
   "source": [
    "#Rozkład normalny: wagi inicjalizowane losowo z rozkładu normalnego, np. o średniej 𝜇=0 i wariancji 𝜎=1\n",
    "nn.Linear(input_dim, output_dim, weight_init=nn.init.normal_(layer.weight, mean=0.0, std=0.01))"
   ]
  },
  {
   "cell_type": "code",
   "execution_count": 7,
   "id": "80274b01-8f06-4d1b-bfa9-45ee9d94e587",
   "metadata": {},
   "outputs": [
    {
     "ename": "NameError",
     "evalue": "name 'layer' is not defined",
     "output_type": "error",
     "traceback": [
      "\u001b[1;31m---------------------------------------------------------------------------\u001b[0m",
      "\u001b[1;31mNameError\u001b[0m                                 Traceback (most recent call last)",
      "Cell \u001b[1;32mIn[7], line 2\u001b[0m\n\u001b[0;32m      1\u001b[0m \u001b[38;5;66;03m#Rozkład jednostajny: wagi losowane z rozkładu jednostajnego w przedziale, np. [−0.1,0.1]\u001b[39;00m\n\u001b[1;32m----> 2\u001b[0m nn\u001b[38;5;241m.\u001b[39minit\u001b[38;5;241m.\u001b[39muniform_(layer\u001b[38;5;241m.\u001b[39mweight, a\u001b[38;5;241m=\u001b[39m\u001b[38;5;241m-\u001b[39m\u001b[38;5;241m0.1\u001b[39m, b\u001b[38;5;241m=\u001b[39m\u001b[38;5;241m0.1\u001b[39m)\n",
      "\u001b[1;31mNameError\u001b[0m: name 'layer' is not defined"
     ]
    }
   ],
   "source": [
    "#Rozkład jednostajny: wagi losowane z rozkładu jednostajnego w przedziale, np. [−0.1,0.1]\n",
    "nn.init.uniform_(layer.weight, a=-0.1, b=0.1)"
   ]
  },
  {
   "cell_type": "code",
   "execution_count": 17,
   "id": "ac95526d-f8e5-40b1-99e8-2ee6405a6a26",
   "metadata": {},
   "outputs": [
    {
     "ename": "NameError",
     "evalue": "name 'layer' is not defined",
     "output_type": "error",
     "traceback": [
      "\u001b[1;31m---------------------------------------------------------------------------\u001b[0m",
      "\u001b[1;31mNameError\u001b[0m                                 Traceback (most recent call last)",
      "Cell \u001b[1;32mIn[17], line 2\u001b[0m\n\u001b[0;32m      1\u001b[0m \u001b[38;5;66;03m#Inicjalizacja Xavier (Glorot)\u001b[39;00m\n\u001b[1;32m----> 2\u001b[0m nn\u001b[38;5;241m.\u001b[39minit\u001b[38;5;241m.\u001b[39mxavier_normal_(layer\u001b[38;5;241m.\u001b[39mweight)\n",
      "\u001b[1;31mNameError\u001b[0m: name 'layer' is not defined"
     ]
    }
   ],
   "source": [
    "#Inicjalizacja Xavier (Glorot)\n",
    "nn.init.xavier_normal_(layer.weight)\n",
    "\n",
    "#Inicjalizacja He (Kaiming)\n",
    "nn.init.kaiming_normal_(layer.weight, mode='fan_in', nonlinearity='relu')\n",
    "\n",
    "#nn.init.kaiming_normal_(layer.weight, mode='fan_in', nonlinearity='relu')\n",
    "nn.init.orthogonal_(layer.weight)"
   ]
  },
  {
   "cell_type": "markdown",
   "id": "2fae94f3-cebd-4fdf-8064-da2dee0dfa9b",
   "metadata": {},
   "source": [
    "### Przykład użycia"
   ]
  },
  {
   "cell_type": "code",
   "execution_count": null,
   "id": "5d370839-7060-4823-81a9-df50f6228676",
   "metadata": {},
   "outputs": [],
   "source": [
    "import torch\n",
    "import torch.nn as nn\n",
    "import torch.nn.functional as F\n",
    "\n",
    "class SimpleNN(nn.Module):\n",
    "    def __init__(self):\n",
    "        super(SimpleNN, self).__init__()\n",
    "        self.fc1 = nn.Linear(784, 256)  # Warstwa w pełni połączona\n",
    "        self.fc2 = nn.Linear(256, 128)\n",
    "        self.fc3 = nn.Linear(128, 10)\n",
    "        \n",
    "        # Inicjalizacja wag\n",
    "        nn.init.kaiming_normal_(self.fc1.weight, mode='fan_in', nonlinearity='relu')\n",
    "        nn.init.kaiming_normal_(self.fc2.weight, mode='fan_in', nonlinearity='relu')\n",
    "        nn.init.kaiming_normal_(self.fc3.weight, mode='fan_in', nonlinearity='relu')\n",
    "\n",
    "    def forward(self, x):\n",
    "        x = x.view(-1, 784)\n",
    "        x = F.relu(self.fc1(x))\n",
    "        x = F.relu(self.fc2(x))\n",
    "        x = self.fc3(x)\n",
    "        return x\n",
    "\n",
    "# Test inicjalizacji\n",
    "model = SimpleNN()\n",
    "print(model)"
   ]
  }
 ],
 "metadata": {
  "kernelspec": {
   "display_name": "Python 3 (ipykernel)",
   "language": "python",
   "name": "python3"
  },
  "language_info": {
   "codemirror_mode": {
    "name": "ipython",
    "version": 3
   },
   "file_extension": ".py",
   "mimetype": "text/x-python",
   "name": "python",
   "nbconvert_exporter": "python",
   "pygments_lexer": "ipython3",
   "version": "3.12.7"
  }
 },
 "nbformat": 4,
 "nbformat_minor": 5
}
