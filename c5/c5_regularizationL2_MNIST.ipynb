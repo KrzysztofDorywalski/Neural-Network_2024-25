{
 "cells": [
  {
   "cell_type": "code",
   "execution_count": 1,
   "id": "6b78d946-5eb8-4b92-a34e-b1cae5297abc",
   "metadata": {},
   "outputs": [],
   "source": [
    "import torch\n",
    "import torch.nn as nn\n",
    "import torch.optim as optim\n",
    "from torchvision import datasets, transforms\n",
    "from torch.utils.data import DataLoader\n",
    "import numpy as np"
   ]
  },
  {
   "cell_type": "code",
   "execution_count": 3,
   "id": "6e960bee-1900-4a70-98da-22dd4389b290",
   "metadata": {},
   "outputs": [],
   "source": [
    "# Parametry\n",
    "batch_size = 64\n",
    "learning_rate = 0.001\n",
    "num_epochs = 20\n",
    "l2_lambda = 0.01  # Współczynnik regularyzacji L2\n",
    "\n",
    "# Transformacje danych\n",
    "transform = transforms.Compose([\n",
    "    transforms.ToTensor(),\n",
    "    transforms.Normalize((0.5,), (0.5,))\n",
    "])\n",
    "\n",
    "# Pobieranie danych\n",
    "train_dataset = datasets.MNIST(root='data', train=True, transform=transform, download=True)\n",
    "test_dataset = datasets.MNIST(root='data', train=False, transform=transform, download=True)\n",
    "\n",
    "train_loader = DataLoader(train_dataset, batch_size=batch_size, shuffle=True)\n",
    "test_loader = DataLoader(test_dataset, batch_size=batch_size, shuffle=False)"
   ]
  },
  {
   "cell_type": "code",
   "execution_count": 5,
   "id": "5edaab43-0162-4b5f-9ff7-58230d4b52ad",
   "metadata": {},
   "outputs": [],
   "source": [
    "class SimpleFCNN(nn.Module):\n",
    "    def __init__(self):\n",
    "        super(SimpleFCNN, self).__init__()\n",
    "        self.fc1 = nn.Linear(28*28, 128)\n",
    "        self.fc2 = nn.Linear(128, 64)\n",
    "        self.fc3 = nn.Linear(64, 10)\n",
    "        \n",
    "    def forward(self, x):\n",
    "        x = x.view(-1, 28*28)  # spłaszczenie obrazu\n",
    "        x = torch.relu(self.fc1(x))\n",
    "        x = torch.relu(self.fc2(x))\n",
    "        x = self.fc3(x)\n",
    "        return x\n",
    "\n",
    "# Inicjalizacja modelu i kryterium\n",
    "model = SimpleFCNN()\n",
    "criterion = nn.CrossEntropyLoss()"
   ]
  },
  {
   "cell_type": "code",
   "execution_count": 7,
   "id": "2a20b2e8-1f27-470f-852b-dafcbb662a23",
   "metadata": {},
   "outputs": [],
   "source": [
    "optimizer = optim.Adam(model.parameters(), lr=learning_rate, weight_decay=l2_lambda)"
   ]
  },
  {
   "cell_type": "code",
   "execution_count": 9,
   "id": "97424ad4-c9e3-4264-9561-cd689b309897",
   "metadata": {},
   "outputs": [
    {
     "name": "stdout",
     "output_type": "stream",
     "text": [
      "Epoch [1/20], Loss: 0.4537\n",
      "Epoch [2/20], Loss: 0.2918\n",
      "Epoch [3/20], Loss: 0.2499\n",
      "Epoch [4/20], Loss: 0.2323\n",
      "Epoch [5/20], Loss: 0.2209\n",
      "Epoch [6/20], Loss: 0.2146\n",
      "Epoch [7/20], Loss: 0.2099\n",
      "Epoch [8/20], Loss: 0.2049\n",
      "Epoch [9/20], Loss: 0.2054\n",
      "Epoch [10/20], Loss: 0.2030\n",
      "Epoch [11/20], Loss: 0.1990\n",
      "Epoch [12/20], Loss: 0.1987\n",
      "Epoch [13/20], Loss: 0.1987\n",
      "Epoch [14/20], Loss: 0.1966\n",
      "Epoch [15/20], Loss: 0.1947\n",
      "Epoch [16/20], Loss: 0.1940\n",
      "Epoch [17/20], Loss: 0.1944\n",
      "Epoch [18/20], Loss: 0.1927\n",
      "Epoch [19/20], Loss: 0.1924\n",
      "Epoch [20/20], Loss: 0.1943\n"
     ]
    }
   ],
   "source": [
    "def train(model, train_loader, criterion, optimizer, num_epochs):\n",
    "    model.train()\n",
    "    for epoch in range(num_epochs):\n",
    "        running_loss = 0\n",
    "        for images, labels in train_loader:\n",
    "            # Zero gradientów\n",
    "            optimizer.zero_grad()\n",
    "            \n",
    "            # Przekazanie przez sieć\n",
    "            outputs = model(images)\n",
    "            loss = criterion(outputs, labels)\n",
    "            \n",
    "            # Obliczenie gradientów i aktualizacja wag\n",
    "            loss.backward()\n",
    "            optimizer.step()\n",
    "            \n",
    "            running_loss += loss.item()\n",
    "        \n",
    "        avg_loss = running_loss / len(train_loader)\n",
    "        print(f\"Epoch [{epoch+1}/{num_epochs}], Loss: {avg_loss:.4f}\")\n",
    "\n",
    "train(model, train_loader, criterion, optimizer, num_epochs)"
   ]
  },
  {
   "cell_type": "code",
   "execution_count": 11,
   "id": "4c776acf-a85f-401e-9ac0-ee6bd617a347",
   "metadata": {},
   "outputs": [
    {
     "name": "stdout",
     "output_type": "stream",
     "text": [
      "Test Loss: 0.1724, Accuracy: 95.01%\n"
     ]
    }
   ],
   "source": [
    "def evaluate(model, test_loader, criterion):\n",
    "    model.eval()\n",
    "    test_loss = 0\n",
    "    correct = 0\n",
    "    with torch.no_grad():\n",
    "        for images, labels in test_loader:\n",
    "            outputs = model(images)\n",
    "            loss = criterion(outputs, labels)\n",
    "            test_loss += loss.item()\n",
    "            \n",
    "            # Przewidywanie\n",
    "            _, predicted = torch.max(outputs, 1)\n",
    "            correct += (predicted == labels).sum().item()\n",
    "    \n",
    "    test_loss /= len(test_loader)\n",
    "    accuracy = correct / len(test_loader.dataset)\n",
    "    print(f\"Test Loss: {test_loss:.4f}, Accuracy: {accuracy * 100:.2f}%\")\n",
    "\n",
    "evaluate(model, test_loader, criterion)"
   ]
  },
  {
   "cell_type": "code",
   "execution_count": null,
   "id": "c5c113f7-7a99-4a95-9ddb-e60fdeba7948",
   "metadata": {},
   "outputs": [],
   "source": []
  }
 ],
 "metadata": {
  "kernelspec": {
   "display_name": "Python 3 (ipykernel)",
   "language": "python",
   "name": "python3"
  },
  "language_info": {
   "codemirror_mode": {
    "name": "ipython",
    "version": 3
   },
   "file_extension": ".py",
   "mimetype": "text/x-python",
   "name": "python",
   "nbconvert_exporter": "python",
   "pygments_lexer": "ipython3",
   "version": "3.12.7"
  }
 },
 "nbformat": 4,
 "nbformat_minor": 5
}
