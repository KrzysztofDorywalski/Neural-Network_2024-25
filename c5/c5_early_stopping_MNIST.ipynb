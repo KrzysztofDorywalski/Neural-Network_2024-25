{
 "cells": [
  {
   "cell_type": "code",
   "execution_count": 1,
   "id": "0d7e9afe-17df-438f-a8bc-185b6f6d62c0",
   "metadata": {},
   "outputs": [],
   "source": [
    "import torch\n",
    "import torch.nn as nn\n",
    "import torch.optim as optim\n",
    "from torchvision import datasets, transforms\n",
    "from torch.utils.data import DataLoader, random_split\n",
    "import matplotlib.pyplot as plt\n",
    "import numpy as np"
   ]
  },
  {
   "cell_type": "code",
   "execution_count": 23,
   "id": "7a466c40-d39a-4a07-ae16-1f98e857c3ac",
   "metadata": {},
   "outputs": [],
   "source": [
    "# Parametry\n",
    "batch_size = 64\n",
    "learning_rate = 0.001\n",
    "num_epochs = 20\n",
    "patience = 3  # Liczba epok bez poprawy na zbiorze walidacyjnym przed zatrzymaniem\n",
    "\n",
    "# Transformacje danych\n",
    "transform = transforms.Compose([\n",
    "    transforms.ToTensor(),\n",
    "    transforms.Normalize((0.5,), (0.5,))\n",
    "])\n",
    "\n",
    "# Pobieranie i dzielenie danych na treningowe i walidacyjne\n",
    "dataset = datasets.MNIST(root='data', train=True, transform=transform, download=True)\n",
    "train_size = int(0.8 * len(dataset))\n",
    "val_size = len(dataset) - train_size\n",
    "train_dataset, val_dataset = random_split(dataset, [train_size, val_size])\n",
    "\n",
    "train_loader = DataLoader(train_dataset, batch_size=batch_size, shuffle=True)\n",
    "val_loader = DataLoader(val_dataset, batch_size=batch_size, shuffle=False)\n"
   ]
  },
  {
   "cell_type": "code",
   "execution_count": 15,
   "id": "cd5fe7f8-f148-40bf-b69a-1f459a4918c0",
   "metadata": {},
   "outputs": [],
   "source": [
    "class SimpleFCNN(nn.Module):\n",
    "    def __init__(self):\n",
    "        super(SimpleFCNN, self).__init__()\n",
    "        self.fc1 = nn.Linear(28*28, 128)\n",
    "        self.fc2 = nn.Linear(128, 64)\n",
    "        self.fc3 = nn.Linear(64, 10)\n",
    "        \n",
    "    def forward(self, x):\n",
    "        x = x.view(-1, 28*28)  # spłaszczenie obrazu\n",
    "        x = torch.relu(self.fc1(x))\n",
    "        x = torch.relu(self.fc2(x))\n",
    "        x = self.fc3(x)\n",
    "        return x\n",
    "\n",
    "# Inicjalizacja modelu, kryterium i optymalizatora\n",
    "model = SimpleFCNN()\n",
    "criterion = nn.CrossEntropyLoss()\n",
    "optimizer = optim.Adam(model.parameters(), lr=learning_rate)\n"
   ]
  },
  {
   "cell_type": "code",
   "execution_count": 17,
   "id": "26579811-4c1d-45bb-bcb3-937ee969d94a",
   "metadata": {},
   "outputs": [],
   "source": [
    "def train(model, train_loader, val_loader, criterion, optimizer, num_epochs, patience):\n",
    "    best_val_loss = np.inf  # najlepsza dotychczasowa strata walidacyjna\n",
    "    epochs_no_improve = 0  # licznik epok bez poprawy\n",
    "\n",
    "    for epoch in range(num_epochs):\n",
    "        # Trenowanie\n",
    "        model.train()\n",
    "        train_loss = 0\n",
    "        for images, labels in train_loader:\n",
    "            optimizer.zero_grad()\n",
    "            outputs = model(images)\n",
    "            loss = criterion(outputs, labels)\n",
    "            loss.backward()\n",
    "            optimizer.step()\n",
    "            train_loss += loss.item()\n",
    "        train_loss /= len(train_loader)\n",
    "        \n",
    "        # Walidacja\n",
    "        model.eval()\n",
    "        val_loss = 0\n",
    "        with torch.no_grad():\n",
    "            for images, labels in val_loader:\n",
    "                outputs = model(images)\n",
    "                loss = criterion(outputs, labels)\n",
    "                val_loss += loss.item()\n",
    "        val_loss /= len(val_loader)\n",
    "        \n",
    "        # Wyświetlanie wyników\n",
    "        print(f\"Epoch [{epoch+1}/{num_epochs}], Train Loss: {train_loss:.4f}, Val Loss: {val_loss:.4f}\")\n",
    "\n",
    "        # Early stopping: sprawdzenie poprawy na zbiorze walidacyjnym\n",
    "        if val_loss < best_val_loss:\n",
    "            best_val_loss = val_loss\n",
    "            epochs_no_improve = 0\n",
    "            best_model_state = model.state_dict()  # zapisywanie najlepszego modelu\n",
    "        else:\n",
    "            epochs_no_improve += 1\n",
    "\n",
    "        if epochs_no_improve >= patience:\n",
    "            print(\"Early stopping triggered\")\n",
    "            model.load_state_dict(best_model_state)  # ładowanie najlepszego modelu\n",
    "            break\n",
    "\n",
    "    return model\n"
   ]
  },
  {
   "cell_type": "code",
   "execution_count": 19,
   "id": "68ffc735-98a5-4d5f-96c6-69b085411538",
   "metadata": {},
   "outputs": [
    {
     "name": "stdout",
     "output_type": "stream",
     "text": [
      "Epoch [1/20], Train Loss: 0.4176, Val Loss: 0.2354\n",
      "Epoch [2/20], Train Loss: 0.2005, Val Loss: 0.1761\n",
      "Epoch [3/20], Train Loss: 0.1491, Val Loss: 0.1409\n",
      "Epoch [4/20], Train Loss: 0.1217, Val Loss: 0.1515\n",
      "Epoch [5/20], Train Loss: 0.1017, Val Loss: 0.1274\n",
      "Epoch [6/20], Train Loss: 0.0901, Val Loss: 0.1015\n",
      "Epoch [7/20], Train Loss: 0.0764, Val Loss: 0.1110\n",
      "Epoch [8/20], Train Loss: 0.0684, Val Loss: 0.0932\n",
      "Epoch [9/20], Train Loss: 0.0600, Val Loss: 0.1040\n",
      "Epoch [10/20], Train Loss: 0.0560, Val Loss: 0.1116\n",
      "Epoch [11/20], Train Loss: 0.0529, Val Loss: 0.1101\n",
      "Epoch [12/20], Train Loss: 0.0468, Val Loss: 0.1139\n",
      "Epoch [13/20], Train Loss: 0.0429, Val Loss: 0.1121\n",
      "Epoch [14/20], Train Loss: 0.0403, Val Loss: 0.1145\n",
      "Epoch [15/20], Train Loss: 0.0362, Val Loss: 0.1206\n",
      "Epoch [16/20], Train Loss: 0.0366, Val Loss: 0.1145\n",
      "Epoch [17/20], Train Loss: 0.0301, Val Loss: 0.1465\n",
      "Epoch [18/20], Train Loss: 0.0345, Val Loss: 0.1024\n",
      "Epoch [19/20], Train Loss: 0.0290, Val Loss: 0.1309\n",
      "Epoch [20/20], Train Loss: 0.0286, Val Loss: 0.1071\n"
     ]
    }
   ],
   "source": [
    "trained_model = train(model, train_loader, val_loader, criterion, optimizer, num_epochs, patience)"
   ]
  },
  {
   "cell_type": "code",
   "execution_count": 21,
   "id": "559aa334-e184-43a0-9029-4bfea4cca5ea",
   "metadata": {},
   "outputs": [
    {
     "name": "stdout",
     "output_type": "stream",
     "text": [
      "Test Loss: 0.0935, Test Accuracy: 97.64%\n"
     ]
    }
   ],
   "source": [
    "# Pobieranie danych testowych\n",
    "test_dataset = datasets.MNIST(root='data', train=False, transform=transform, download=True)\n",
    "test_loader = DataLoader(test_dataset, batch_size=batch_size, shuffle=False)\n",
    "\n",
    "# Ewaluacja na zbiorze testowym\n",
    "model.eval()\n",
    "test_loss = 0\n",
    "correct = 0\n",
    "with torch.no_grad():\n",
    "    for images, labels in test_loader:\n",
    "        outputs = model(images)\n",
    "        loss = criterion(outputs, labels)\n",
    "        test_loss += loss.item()\n",
    "        \n",
    "        # Sprawdzenie poprawnych przewidywań\n",
    "        _, predicted = torch.max(outputs, 1)\n",
    "        correct += (predicted == labels).sum().item()\n",
    "        \n",
    "test_loss /= len(test_loader)\n",
    "accuracy = correct / len(test_loader.dataset)\n",
    "print(f\"Test Loss: {test_loss:.4f}, Test Accuracy: {accuracy * 100:.2f}%\")\n"
   ]
  },
  {
   "cell_type": "code",
   "execution_count": null,
   "id": "a20ad2ff-bfb7-438b-91a1-42b193216946",
   "metadata": {},
   "outputs": [],
   "source": []
  }
 ],
 "metadata": {
  "kernelspec": {
   "display_name": "Python 3 (ipykernel)",
   "language": "python",
   "name": "python3"
  },
  "language_info": {
   "codemirror_mode": {
    "name": "ipython",
    "version": 3
   },
   "file_extension": ".py",
   "mimetype": "text/x-python",
   "name": "python",
   "nbconvert_exporter": "python",
   "pygments_lexer": "ipython3",
   "version": "3.12.7"
  }
 },
 "nbformat": 4,
 "nbformat_minor": 5
}
